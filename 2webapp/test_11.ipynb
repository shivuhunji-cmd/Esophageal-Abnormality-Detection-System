{
 "cells": [
  {
   "cell_type": "code",
   "execution_count": 3,
   "id": "aa3b9d6c-e052-458f-8aca-d5330a05e6ff",
   "metadata": {},
   "outputs": [
    {
     "name": "stdout",
     "output_type": "stream",
     "text": [
      "1/1 [==============================] - 1s 565ms/step\n",
      "result : Esophageal \n",
      "accuracy  95.49\n"
     ]
    }
   ],
   "source": [
    "import os\n",
    "from flask import Flask, flash, request, redirect, url_for, render_template, send_from_directory\n",
    "from werkzeug.utils import secure_filename\n",
    "from tensorflow.keras.models import load_model\n",
    "import numpy as np\n",
    "#from keras.preprocessing import image\n",
    "from tensorflow.keras.preprocessing import image\n",
    "\n",
    "\n",
    "model=load_model(\"Esophageal_model.h5\")\n",
    "filename=\"test.jpg\"\n",
    "test_image = image.load_img('static/img/'+filename, target_size = (224,224))\n",
    "test_image = image.img_to_array(test_image)\n",
    "test_image = np.expand_dims(test_image, axis = 0)\n",
    "test_image = test_image.astype('float') / 255\n",
    "result = model.predict(test_image)\n",
    "pred_prob = result.item()\n",
    "\n",
    "if result[0]>0.5:\n",
    "    label = 'NON-Esophageal'\n",
    "    print(\"result : NON  Esophageal \")\n",
    "    accuracy = round(pred_prob * 100, 2)\n",
    "    print (\"accuracy \",accuracy )\n",
    "else:\n",
    "    label = 'Esophageal'\n",
    "    print(\"result : Esophageal \")\n",
    "    accuracy = round((1 - pred_prob) * 100, 2)\n",
    "    print (\"accuracy \",accuracy )"
   ]
  },
  {
   "cell_type": "code",
   "execution_count": null,
   "id": "2eeee2d6-0e43-49dc-af37-5878f3ed2064",
   "metadata": {},
   "outputs": [],
   "source": []
  }
 ],
 "metadata": {
  "kernelspec": {
   "display_name": "Python 3",
   "language": "python",
   "name": "python3"
  },
  "language_info": {
   "codemirror_mode": {
    "name": "ipython",
    "version": 3
   },
   "file_extension": ".py",
   "mimetype": "text/x-python",
   "name": "python",
   "nbconvert_exporter": "python",
   "pygments_lexer": "ipython3",
   "version": "3.8.8"
  }
 },
 "nbformat": 4,
 "nbformat_minor": 5
}
